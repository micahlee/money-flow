{
 "cells": [
  {
   "cell_type": "code",
   "execution_count": null,
   "metadata": {},
   "outputs": [],
   "source": [
    "import pandas as pd\n",
    "import psycopg2\n",
    "import sqlalchemy\n",
    "import matplotlib as plt\n",
    "\n",
    "%matplotlib inline"
   ]
  },
  {
   "cell_type": "code",
   "execution_count": null,
   "metadata": {},
   "outputs": [],
   "source": [
    "from sqlalchemy import create_engine\n",
    "# Postgres username, password, and database name\n",
    "POSTGRES_ADDRESS = 'db'\n",
    "POSTGRES_PORT = '5432'\n",
    "POSTGRES_USERNAME = 'postgres'\n",
    "POSTGRES_PASSWORD = ''\n",
    "POSTGRES_DBNAME = 'myapp_development'\n",
    "\n",
    "# A long string that contains the necessary Postgres login information\n",
    "postgres_str = ('postgresql://{username}:{password}@{ipaddress}:{port}/{dbname}'\n",
    "                .format(username=POSTGRES_USERNAME,\n",
    "                        password=POSTGRES_PASSWORD,\n",
    "                        ipaddress=POSTGRES_ADDRESS,\n",
    "                        port=POSTGRES_PORT,\n",
    "                        dbname=POSTGRES_DBNAME)\n",
    "               )\n",
    "    \n",
    "# Create the connection\n",
    "cnx = create_engine(postgres_str)"
   ]
  },
  {
   "cell_type": "markdown",
   "metadata": {},
   "source": [
    "## Transactions by Month and Fund"
   ]
  },
  {
   "cell_type": "code",
   "execution_count": null,
   "metadata": {},
   "outputs": [],
   "source": [
    "pd.read_sql_query('''\n",
    "SELECT \n",
    "    date_trunc('month', t.created_at) AS txn_month,\n",
    "    f.name, \n",
    "    SUM(t.amount) as total\n",
    "FROM \n",
    "    transactions t\n",
    "    LEFT JOIN funds f on f.id = t.fund_id\n",
    "WHERE\n",
    "    t.pending = false\n",
    "    AND t.fund_id != 0\n",
    "GROUP BY\n",
    "    txn_month,\n",
    "    f.name\n",
    "ORDER BY\n",
    "    txn_month,\n",
    "    total desc;\n",
    "''', cnx)"
   ]
  },
  {
   "cell_type": "markdown",
   "metadata": {},
   "source": [
    "## Flow over time"
   ]
  },
  {
   "cell_type": "code",
   "execution_count": null,
   "metadata": {},
   "outputs": [],
   "source": [
    "pd.read_sql_query('''\n",
    "SELECT \n",
    "    date_trunc('month', t.created_at) AS txn_month,\n",
    "    SUM(case when t.amount < 0 then amount end) as expenses,\n",
    "    SUM(case when t.amount > 0 then amount end) as income,\n",
    "    SUM(t.amount) as balance\n",
    "FROM \n",
    "    transactions t\n",
    "WHERE\n",
    "    t.pending = false\n",
    "GROUP BY\n",
    "    txn_month\n",
    "ORDER BY\n",
    "    txn_month;\n",
    "''', cnx)"
   ]
  },
  {
   "cell_type": "markdown",
   "metadata": {},
   "source": [
    "## Average per category"
   ]
  },
  {
   "cell_type": "code",
   "execution_count": null,
   "metadata": {},
   "outputs": [],
   "source": [
    "pd.read_sql_query('''\n",
    "select      \n",
    "    distinct f.name\n",
    "    , avg(sum(amount)) over (partition by f.name)  avg_rev\n",
    "    , min(sum(amount)) over (partition by f.name)  min_rev\n",
    "    , max(sum(amount)) over (partition by f.name)  max_rev\n",
    "\n",
    "\n",
    "\n",
    "from        \n",
    "    transactions t\n",
    "    LEFT JOIN funds f on f.id = t.fund_id\n",
    "where\n",
    "    t.fund_id <> 0\n",
    "    AND t.pending = false\n",
    "\n",
    "group by\n",
    "    date_trunc('month', t.created_at), \n",
    "    f.name\n",
    "order by\n",
    "    avg_rev desc\n",
    "''', cnx)"
   ]
  },
  {
   "cell_type": "code",
   "execution_count": null,
   "metadata": {},
   "outputs": [],
   "source": []
  }
 ],
 "metadata": {
  "kernelspec": {
   "display_name": "Python 3",
   "language": "python",
   "name": "python3"
  },
  "language_info": {
   "codemirror_mode": {
    "name": "ipython",
    "version": 3
   },
   "file_extension": ".py",
   "mimetype": "text/x-python",
   "name": "python",
   "nbconvert_exporter": "python",
   "pygments_lexer": "ipython3",
   "version": "3.8.6"
  }
 },
 "nbformat": 4,
 "nbformat_minor": 2
}
