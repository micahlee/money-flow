{
 "cells": [
  {
   "cell_type": "code",
   "execution_count": null,
   "metadata": {},
   "outputs": [],
   "source": [
    "require 'pg'\n",
    "\n",
    "con = PG.connect(\n",
    "      dbname: 'myapp_development',\n",
    "      user: 'postgres',\n",
    "      password: '',\n",
    "      host: 'db'\n",
    "      )"
   ]
  },
  {
   "cell_type": "code",
   "execution_count": null,
   "metadata": {},
   "outputs": [],
   "source": [
    "funds = con.exec \"\"\"\n",
    "    SELECT\n",
    "      DISTINCT name\n",
    "    FROM Funds\n",
    "    \"\"\"\n",
    "\n",
    "    funds_a = funds.map {|row| row['name']} .to_a"
   ]
  },
  {
   "cell_type": "code",
   "execution_count": null,
   "metadata": {},
   "outputs": [],
   "source": [
    "require 'classifier-reborn'\n",
    "\n",
    "classifier = nil\n",
    "begin\n",
    "    funds = con.exec \"\"\"\n",
    "    SELECT\n",
    "      DISTINCT name\n",
    "    FROM Funds\n",
    "    \"\"\"\n",
    "  \n",
    "    funds_a = funds.map {|row| row['name']} .to_a\n",
    "  \n",
    "    classifier = ClassifierReborn::Bayes.new(funds_a)\n",
    "    \n",
    "  \n",
    "    transactions = con.exec \"\"\"\n",
    "    SELECT \n",
    "        CONCAT(c.name, ' ', a.name, ' ', t.category, ' ' ,t.name) as str,\n",
    "        f.name as fund_name\n",
    "    FROM \n",
    "        Transactions t\n",
    "        JOIN Accounts a on a.id = t.account_id\n",
    "        JOIN Connections c on c.id = a.connection_id\n",
    "        JOIN Funds f on f.id = t.fund_id\n",
    "    ORDER BY\n",
    "        c.name, a.name, t.name\n",
    "    \"\"\"\n",
    "\n",
    "    transactions.each do |row|\n",
    "      classifier.train(row['fund_name'], row['str'])\n",
    "    end\n",
    "  \n",
    "    classifier_snapshot = Marshal.dump classifier\n",
    "    # This is a string of bytes, you can persist it anywhere you like\n",
    "\n",
    "    File.open(\"fund_classifier.dat\", \"w+\") {|f| f.write(classifier_snapshot) }\n",
    "\n",
    "rescue PG::Error => e\n",
    "\n",
    "    puts e.message \n",
    "    \n",
    "ensure\n",
    "\n",
    "    con.close if con\n",
    "    \n",
    "end"
   ]
  },
  {
   "cell_type": "code",
   "execution_count": null,
   "metadata": {},
   "outputs": [],
   "source": [
    "classifier.classifications('starbucks').map{ |k,v| [k, v]}.sort_by { |row| row[1]}.reverse[0...2]"
   ]
  },
  {
   "cell_type": "code",
   "execution_count": null,
   "metadata": {},
   "outputs": [],
   "source": []
  }
 ],
 "metadata": {
  "kernelspec": {
   "display_name": "Ruby 2.7.0",
   "language": "ruby",
   "name": "ruby"
  },
  "language_info": {
   "file_extension": ".rb",
   "mimetype": "application/x-ruby",
   "name": "ruby",
   "version": "2.7.0"
  }
 },
 "nbformat": 4,
 "nbformat_minor": 2
}
