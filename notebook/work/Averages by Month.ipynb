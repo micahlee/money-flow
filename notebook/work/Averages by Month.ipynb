{
 "cells": [
  {
   "cell_type": "code",
   "execution_count": null,
   "metadata": {},
   "outputs": [],
   "source": [
    "require 'pg'\n",
    "\n",
    "classifier = nil\n",
    "begin\n",
    "    con = PG.connect(\n",
    "      dbname: 'myapp_development',\n",
    "      user: 'postgres',\n",
    "      password: '',\n",
    "      host: 'db'\n",
    "      )\n",
    "  \n",
    "    rs = con.exec \"\"\"\n",
    "    select * from crosstab(\n",
    "    '   select\n",
    "            t.Period\n",
    "            , avg(t.Price) as avg_price\n",
    "        from\n",
    "            mytable t\n",
    "        group by\n",
    "            t.Period\n",
    "        order by\n",
    "            1\n",
    "            , 2\n",
    "    '\n",
    "    ) as ct(\n",
    "        \"Period\" text\n",
    "        , \"1\"  int\n",
    "        , \"2\"  int\n",
    "        , \"3\"  int\n",
    "        , \"4\"  int\n",
    "        , \"5\"  int\n",
    "        , \"6\"  int\n",
    "        , \"7\"  int\n",
    "        , \"8\"  int\n",
    "        , \"9\"  int\n",
    "        , \"10\" int\n",
    "        , \"11\" int\n",
    "        , \"12\" int\n",
    "    )\n",
    "    \"\"\"\n",
    "\n",
    "    rs.each do |row|\n",
    "      p row\n",
    "    end\n",
    "\n",
    "rescue PG::Error => e\n",
    "\n",
    "    puts e.message \n",
    "    \n",
    "ensure\n",
    "\n",
    "    con.close if con\n",
    "    \n",
    "end"
   ]
  },
  {
   "cell_type": "code",
   "execution_count": null,
   "metadata": {},
   "outputs": [],
   "source": []
  }
 ],
 "metadata": {
  "kernelspec": {
   "display_name": "Ruby 2.7.0",
   "language": "ruby",
   "name": "ruby"
  },
  "language_info": {
   "file_extension": ".rb",
   "mimetype": "application/x-ruby",
   "name": "ruby",
   "version": "2.7.0"
  }
 },
 "nbformat": 4,
 "nbformat_minor": 2
}
